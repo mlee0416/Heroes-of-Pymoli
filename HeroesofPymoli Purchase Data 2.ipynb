{
 "cells": [
  {
   "cell_type": "markdown",
   "metadata": {},
   "source": [
    "# Heroes of Pymoli Purchase Data 2"
   ]
  },
  {
   "cell_type": "markdown",
   "metadata": {},
   "source": [
    "Import the pandas dictionary"
   ]
  },
  {
   "cell_type": "code",
   "execution_count": null,
   "metadata": {
    "collapsed": true
   },
   "outputs": [],
   "source": [
    "import pandas as pd"
   ]
  },
  {
   "cell_type": "markdown",
   "metadata": {},
   "source": [
    "Read the file given to you"
   ]
  },
  {
   "cell_type": "code",
   "execution_count": null,
   "metadata": {},
   "outputs": [],
   "source": [
    "heroes_file=\"purchase_data2.json\"\n",
    "heroes_df=pd.read_json(heroes_file)\n",
    "heroes_df.head()"
   ]
  },
  {
   "cell_type": "markdown",
   "metadata": {},
   "source": [
    "Player Count"
   ]
  },
  {
   "cell_type": "code",
   "execution_count": null,
   "metadata": {},
   "outputs": [],
   "source": [
    "player_demographics = heroes_df.loc[:, [\"Gender\", \"SN\", \"Age\"]]\n",
    "player_demographics.head()"
   ]
  },
  {
   "cell_type": "code",
   "execution_count": null,
   "metadata": {},
   "outputs": [],
   "source": [
    "player_demographics = player_demographics.drop_duplicates()\n",
    "#player_demographics.head()\n",
    "player_count = player_demographics.count()[0]\n",
    "player_count"
   ]
  },
  {
   "cell_type": "markdown",
   "metadata": {},
   "source": [
    "Purchasing Analysis (Total)\n",
    "\n",
    "Number of Unique Items,\n",
    "Average Purchase Price,\n",
    "Total Number of Purchases,\n",
    "Total Revenue"
   ]
  },
  {
   "cell_type": "code",
   "execution_count": null,
   "metadata": {},
   "outputs": [],
   "source": [
    "#Purchasing Analysis(Total)\n",
    "unique_items=len(heroes_df[\"Item ID\"].unique())\n",
    "average_price=heroes_df[\"Price\"].mean()\n",
    "total_number_purchase=heroes_df[\"Price\"].count()\n",
    "total_revenue=heroes_df[\"Price\"].sum()\n",
    "summary_table=pd.DataFrame({\"Number of Unique Items\":[unique_items],\n",
    "                           \"Average Purchase Price\":[average_price],\n",
    "                           \"Total Number of Purchases\":[total_number_purchase],\n",
    "                           \"Total Revenue\":[total_revenue]})\n",
    "summary_table=summary_table[[\"Number of Unique Items\",\"Average Purchase Price\",\"Total Number of Purchases\",\"Total Revenue\"]]\n",
    "summary_table=summary_table.round(2)\n",
    "\n",
    "summary_table.head()"
   ]
  },
  {
   "cell_type": "markdown",
   "metadata": {},
   "source": [
    "Gender Demographics\n",
    "\n",
    "Percentage and Count of Male Players,\n",
    "Percentage and Count of Female Players,\n",
    "Percentage and Count of Other / Non-Disclosed"
   ]
  },
  {
   "cell_type": "code",
   "execution_count": null,
   "metadata": {},
   "outputs": [],
   "source": [
    "#Gender Demographics\n",
    "gender_count=player_demographics[\"Gender\"].value_counts()\n",
    "gender_percent=gender_count/player_count*100\n",
    "gender_count\n",
    "gender_demographics=pd.DataFrame({\"Percentage of Players\":gender_percent,\n",
    "                                 \"Total Count\":gender_count})\n",
    "\n",
    "gender_demographics= gender_demographics.round(2)\n",
    "gender_demographics.head()"
   ]
  },
  {
   "cell_type": "markdown",
   "metadata": {},
   "source": [
    "Purchasing Analysis (Gender)\n",
    "\n",
    "The below each broken by gender,\n",
    "Purchase Count,\n",
    "Average Purchase Price,\n",
    "Total Purchase Value,\n",
    "Normalized Totals"
   ]
  },
  {
   "cell_type": "code",
   "execution_count": null,
   "metadata": {},
   "outputs": [],
   "source": [
    "#Purchasing Analysis (Gender)\n",
    "purchase_count=heroes_df.groupby([\"Gender\"]).count()[\"Price\"]\n",
    "purchase_avg_price=heroes_df.groupby([\"Gender\"]).mean()[\"Price\"]\n",
    "total_purchase_value=heroes_df.groupby([\"Gender\"]).sum()[\"Price\"]\n",
    "normalized_totals=total_purchase_value/gender_count\n",
    "\n",
    "summary_purchasing_analysis=pd.DataFrame({\"Purchase Count\":purchase_count,\n",
    "                                         \"Average Purchase Price\":purchase_avg_price,\n",
    "                                         \"Total Purchase Value\": total_purchase_value,\n",
    "                                         \"Normalized Total\":normalized_totals})\n",
    "\n",
    "summary_purchasing_analysis=summary_purchasing_analysis[[\"Purchase Count\",\"Average Purchase Price\",\"Total Purchase Value\",\"Normalized Total\"]]\n",
    "\n",
    "summary_purchasing_analysis=summary_purchasing_analysis.round(2)\n",
    "summary_purchasing_analysis\n"
   ]
  },
  {
   "cell_type": "markdown",
   "metadata": {},
   "source": [
    "Age Demographics\n",
    "\n",
    "The below each broken into bins of 4 years (i.e. <10, 10-14, 15-19, etc.):\n",
    "Purchase Count,\n",
    "Average Purchase Price,\n",
    "Total Purchase Value,\n",
    "Normalized Totals"
   ]
  },
  {
   "cell_type": "code",
   "execution_count": null,
   "metadata": {},
   "outputs": [],
   "source": [
    "#Age Demographics\n",
    "\n",
    "bins= [0,10,15,20,25,30,35,40,999]\n",
    "group_names=['<10','10-14','15-19','20-24','25-29','30-34','35-39','40+']\n",
    "\n",
    "unique_heroes=player_demographics.loc[:,[\"SN\",\"Age\"]]\n",
    "unique_heroes[\"Age Ranges\"] = pd.cut(unique_heroes[\"Age\"], bins, labels=group_names)\n",
    "unique_heroes\n",
    "\n",
    "age_demographics_totals = unique_heroes[\"Age Ranges\"].value_counts()\n",
    "age_demographics_percents = (age_demographics_totals / player_count * 100).round(2)\n",
    "age_demographics = pd.DataFrame({\"Percentage of Total\": age_demographics_percents, \"Age Group Total\": age_demographics_totals})\n",
    "\n",
    "age_demographics.sort_index()\n"
   ]
  },
  {
   "cell_type": "markdown",
   "metadata": {
    "collapsed": true
   },
   "source": [
    "Top Spenders\n",
    "\n",
    "Identify the the top 5 spenders in the game by total purchase value, then list (in a table):\n",
    "SN,\n",
    "Purchase Count,\n",
    "Average Purchase Price,\n",
    "Total Purchase Value"
   ]
  },
  {
   "cell_type": "code",
   "execution_count": null,
   "metadata": {
    "scrolled": true
   },
   "outputs": [],
   "source": [
    "user_count=heroes_df.groupby([\"SN\"]).count()[\"Price\"]\n",
    "user_average=heroes_df.groupby([\"SN\"]).mean()[\"Price\"].map(\"${0:,.2f}\".format)\n",
    "user_total=heroes_df.groupby([\"SN\"]).sum()[\"Price\"].map(\"${0:,.2f}\".format)\n",
    "\n",
    "user_summary=pd.DataFrame({\"Purchase Count\":user_count,\n",
    "                          \"Average Purchase\":user_average,\n",
    "                          \"Total Purchase Value\":user_total})\n",
    "user_summary.sort_values(\"Total Purchase Value\",ascending=False).round(2).head()\n",
    "\n"
   ]
  },
  {
   "cell_type": "markdown",
   "metadata": {},
   "source": [
    "Most Popular Items\n",
    "\n",
    "Identify the 5 most popular items by purchase count, then list (in a table):\n",
    "Item ID,\n",
    "Item Name,\n",
    "Purchase Count,\n",
    "Item Price,\n",
    "Total Purchase Value"
   ]
  },
  {
   "cell_type": "code",
   "execution_count": null,
   "metadata": {
    "scrolled": false
   },
   "outputs": [],
   "source": [
    "item_id = heroes_df.groupby(heroes_df['Item ID'])\n",
    "#item_id.head()\n",
    "unique_items = item_id['Item ID'].unique().str[0]\n",
    "item_name = item_id['Item Name'].unique().str[0]\n",
    "item_purchase_count = item_id['Age'].count()\n",
    "item_price = item_id['Price'].unique().str[0]\n",
    "item_purchase_total = item_id['Price'].sum()\n",
    "\n",
    "item_summary =pd.DataFrame({'Item ID':unique_items,\n",
    "                'Item Name':item_name,\n",
    "                'Item Price':item_price,\n",
    "                'Item Count':item_purchase_count,\n",
    "                'Total Purchase':item_purchase_total})\n",
    "\n",
    "\n",
    "#item_summary = item_summary.set_index('Item ID')\n",
    "item_summary = item_summary.sort_values('Item Count', ascending=False)\n",
    "item_summary_df = item_summary[['Item Name','Item Count','Item Price','Total Purchase']]\n",
    "item_summary_df.head()\n"
   ]
  },
  {
   "cell_type": "markdown",
   "metadata": {},
   "source": [
    "Most Profitable Items\n",
    "\n",
    "Identify the 5 most profitable items by total purchase value, then list (in a table):\n",
    "Item ID,\n",
    "Item Name,\n",
    "Purchase Count,\n",
    "Item Price,\n",
    "Total Purchase Value"
   ]
  },
  {
   "cell_type": "code",
   "execution_count": null,
   "metadata": {},
   "outputs": [],
   "source": [
    "most_profit=item_summary.sort_values('Total Purchase', ascending=False)\n",
    "most_profit.head()"
   ]
  },
  {
   "cell_type": "code",
   "execution_count": null,
   "metadata": {
    "collapsed": true
   },
   "outputs": [],
   "source": []
  }
 ],
 "metadata": {
  "kernelspec": {
   "display_name": "Python [conda env:PythonData]",
   "language": "python",
   "name": "conda-env-PythonData-py"
  }
 },
 "nbformat": 4,
 "nbformat_minor": 2
}
